{
 "cells": [
  {
   "cell_type": "code",
   "execution_count": 1,
   "metadata": {},
   "outputs": [],
   "source": [
    "import random\n",
    "import numpy as np\n",
    "import matplotlib.pyplot as plt\n",
    "def randomdirection(x,y):\n",
    "    r=random.randint(1,8)\n",
    "    if(r==1):\n",
    "        x=x+1\n",
    "    if(r==2):\n",
    "        y=y+1\n",
    "    if(r==3):\n",
    "        x=x-1\n",
    "    if(r==4):\n",
    "        y=y-1\n",
    "    if(r==5):\n",
    "        x=x+1\n",
    "        y=y+1\n",
    "    if(r==6):\n",
    "        x=x+1\n",
    "        y=y-1\n",
    "    if(r==7):\n",
    "        x=x-1\n",
    "        y=y+1\n",
    "    if(r==8):\n",
    "        x=x-1\n",
    "        y=y-1\n",
    "    return x,y    "
   ]
  },
  {
   "cell_type": "code",
   "execution_count": 2,
   "metadata": {},
   "outputs": [
    {
     "data": {
      "image/png": "[encoded data removed]",
      "text/plain": [
       "<Figure size 432x288 with 1 Axes>"
      ]
     },
     "metadata": {
      "needs_background": "light"
     },
     "output_type": "display_data"
    }
   ],
   "source": [
    "X=[]\n",
    "Y=[]\n",
    "changex=0\n",
    "changey=0\n",
    "for j in range(1):\n",
    "    changex=0\n",
    "    changey=0\n",
    "    for i in range(5):\n",
    "        T,V=randomdirection(0,0)\n",
    "        changex=changex+T\n",
    "        changey=changey+V\n",
    "        X.append(changex)\n",
    "        Y.append(changey)\n",
    "    plt.scatter(X,Y)\n",
    "    plt.show()"
   ]
  },
  {
   "cell_type": "markdown",
   "metadata": {},
   "source": [
    "Deviation and circular path function"
   ]
  },
  {
   "cell_type": "code",
   "execution_count": 3,
   "metadata": {},
   "outputs": [
    {
     "name": "stdout",
     "output_type": "stream",
     "text": [
      "30.0\n",
      "45.0 42.42640687119285\n",
      "30.0 40.0 30.0\n"
     ]
    },
    {
     "data": {
      "image/png": "[encoded data removed]",
      "text/plain": [
       "<Figure size 432x288 with 1 Axes>"
      ]
     },
     "metadata": {
      "needs_background": "light"
     },
     "output_type": "display_data"
    }
   ],
   "source": [
    "def path(X,Y,curx,cury,division,direction):\n",
    "    xn=[]\n",
    "    yn=[]\n",
    "    distance=np.sqrt(((X-curx)**2)+((Y-cury)**2))\n",
    "    theeta=(np.pi/2)-(np.arctan(abs((Y-y)/(X-x))))\n",
    "    phi=(2*theeta*180/np.pi)/division\n",
    "    R=(distance*np.sin((np.pi/2)-theeta))/np.sin(2*theeta)\n",
    "    Angle=0\n",
    "    Rx=X+(R*np.cos(Angle))\n",
    "    Ry=Y+(R*np.sin(Angle))\n",
    "    print(phi)\n",
    "    print(theeta*180/np.pi,distance)\n",
    "    print(Rx,Ry,R)\n",
    "    q=np.linspace(0,360)\n",
    "    xn.append(Rx+(R*np.cos(q*np.pi/180)))\n",
    "    yn.append(Ry+(R*np.sin(q*np.pi/180)))\n",
    "    plt.scatter(xn,yn)\n",
    "    plt.plot((0,0),(0,40))\n",
    "    plt.show()\n",
    "X=0\n",
    "Y=40\n",
    "x=30\n",
    "y=10\n",
    "direction=-1/np.Infinity\n",
    "path(X,Y,x,y,3,direction)"
   ]
  },
  {
   "cell_type": "markdown",
   "metadata": {},
   "source": [
    "The Tensor transformation effort"
   ]
  },
  {
   "cell_type": "code",
   "execution_count": 4,
   "metadata": {},
   "outputs": [],
   "source": [
    "def path(points):\n",
    "    direction=30*np.pi/180\n",
    "    tensor=np.array([[np.cos(direction),-1*np.sin(direction)],[np.sin(direction),np.cos(direction)]])\n",
    "    point=np.multiply(tensor,points)\n",
    "    return(point)\n",
    "r=[]\n",
    "for i in range(100):\n",
    "    r.append(path(i))"
   ]
  },
  {
   "cell_type": "markdown",
   "metadata": {},
   "source": [
    "This is the second try for the finding the solution to the problem,\n",
    "Optimization condition : the distance of the problem should be less and the time also\n",
    "Constraints are going to be the angle of turn and the distance of the line s in the curves."
   ]
  },
  {
   "cell_type": "markdown",
   "metadata": {},
   "source": [
    "making the Velocity Vector,Velocity Vector orientation, Missile Orientation"
   ]
  },
  {
   "cell_type": "code",
   "execution_count": 5,
   "metadata": {},
   "outputs": [],
   "source": [
    "import numpy as np\n",
    "\n",
    "#def VelocityVector(dvx,dvy):\n",
    "#    VelocityVectorX=dvx\n",
    "#    VelocityVectorY=dvy\n",
    "#    X.append(dvx)\n",
    "#    Y.append(dvy)\n",
    "#    return VelocityVectorX,VelocityVectorY\n",
    "CurrentPositionX=1\n",
    "CurrentPositionY=1\n",
    "def TargetOrientation(TargetX,TargetY):\n",
    "    RadianTarget=0\n",
    "    if (TargetX>=0.0 and TargetY>=0.0):               #First Quadrant\n",
    "        RadianTarget=np.arctan(TargetY/TargetX) \n",
    "    if (TargetX<=0.0 and TargetY>=0.0):               #Second Quadrant\n",
    "        RadianTarget=np.pi+np.arctan(TargetY/TargetX)\n",
    "    if (TargetX<=0.0 and TargetY<=0.0):               #Third Quadrant\n",
    "        RadianTarget=np.pi+np.arctan(TargetY/TargetX)\n",
    "    if (TargetX>=0.0 and TargetY<=0.0):               #Fourth Quadrant\n",
    "        RadianTarget=(2*np.pi)+np.arctan(TargetY/TargetX)\n",
    "    return RadianTarget\n",
    "\n",
    "def MissileOrientation(VelocityVectorX,VelocityVectorY):\n",
    "    RadianMissile=0\n",
    "    if (VelocityVectorX>=0.0 and VelocityVectorY>=0.0):                   #First Quadrant\n",
    "        RadianMissile=np.arctan(VelocityVectorY/VelocityVectorX) \n",
    "    if (VelocityVectorX<=0.0 and VelocityVectorY>=0.0):           #Second Quadrant\n",
    "        RadianMissile=np.pi+np.arctan(VelocityVectorY/VelocityVectorX)\n",
    "    if (VelocityVectorX<=0.0 and VelocityVectorY<=0.0):           #Third Quadrant\n",
    "        RadianMissile=np.pi+np.arctan(VelocityVectorY/VelocityVectorX)\n",
    "    if (VelocityVectorX>=0.0 and VelocityVectorY<=0.0):                   #Fourth Quadrant \n",
    "        RadianMissile=(2*np.pi)+np.arctan(VelocityVectorY/VelocityVectorX)\n",
    "    #print(RadianMissile)\n",
    "    return RadianMissile\n",
    "\n",
    "def TurnHere(RadianTarget,RadianMissile):\n",
    "    if (RadianMissile<=np.pi):\n",
    "        if (RadianTarget>RadianMissile+(np.pi) and RadianTarget>RadianMissile):\n",
    "            #print(\"Turn Right\")\n",
    "            return (1)\n",
    "        if (RadianTarget>RadianMissile):\n",
    "            #print(\"Trun Left\")\n",
    "            return (-1)\n",
    "        if (RadianTarget<RadianMissile): \n",
    "            #print(\"Turn Right\")\n",
    "            return (1)\n",
    "    if(RadianMissile>=np.pi):\n",
    "        if(RadianTarget<RadianMissile and RadianTarget<RadianMissile-np.pi):\n",
    "            #turn left\n",
    "            return(-1)\n",
    "        if(RadianTarget<RadianMissile):\n",
    "            #turn Right\n",
    "            return(1)\n",
    "        if(RadianTarget>RadianMissile):\n",
    "            #turn left\n",
    "            return(-1)        "
   ]
  },
  {
   "cell_type": "markdown",
   "metadata": {},
   "source": [
    "Making the rotation tensor for the Missile vector"
   ]
  },
  {
   "cell_type": "code",
   "execution_count": 87,
   "metadata": {},
   "outputs": [
    {
     "name": "stdout",
     "output_type": "stream",
     "text": [
      "Target Hit\n",
      "376\n"
     ]
    },
    {
     "data": {
      "image/png": "[encoded data removed]",
      "text/plain": [
       "<Figure size 360x360 with 1 Axes>"
      ]
     },
     "metadata": {
      "needs_background": "light"
     },
     "output_type": "display_data"
    }
   ],
   "source": [
    "import random\n",
    "import numpy as np\n",
    "incremental=0.85*np.pi/180 #2,3,4,5,6,7,8,9,10,11\n",
    "def rotationTensor(TurnHereCommand,dvx,dvy):\n",
    "    if (TurnHereCommand==-1):\n",
    "        Nx=(dvx*np.cos(incremental))-(dvy*np.sin(incremental))\n",
    "        Ny=(dvx*np.sin(incremental))+(dvy*np.cos(incremental))\n",
    "        dvx=Nx\n",
    "        dvy=Ny\n",
    "    else:\n",
    "        Nx=(dvx*np.cos(-1*incremental))-(dvy*np.sin(-1*incremental))\n",
    "        Ny=(dvx*np.sin(-1*incremental))+(dvy*np.cos(-1*incremental))\n",
    "        dvx=Nx\n",
    "        dvy=Ny\n",
    "    return Nx,Ny\n",
    "dvx=0.01\n",
    "dvy=np.sqrt(1-dvx**2)\n",
    "#TargetX=100\n",
    "#TargetY=-10.5\n",
    "X=[]\n",
    "Y=[]\n",
    "CurrentPositionX=1\n",
    "CurrentPositionY=1\n",
    "Tx=[]\n",
    "Ty=[]\n",
    "for t in range(100000):\n",
    "    TargetX=(50)+(t)\n",
    "    TargetY=1000\n",
    "    Tx.append(TargetX)\n",
    "    Ty.append(TargetY)\n",
    "    #i,j=VelocityVector(1,0)\n",
    "    AngleTarget=TargetOrientation(TargetX-CurrentPositionX,TargetY-CurrentPositionY)\n",
    "    #print(AngleTarget*180/np.pi)\n",
    "    AngleMissile = MissileOrientation(dvx,dvy)\n",
    "    #print(AngleMissile*180/np.pi,AngleTarget*180/np.pi)\n",
    "    TurnHereCommand = TurnHere(AngleTarget,AngleMissile)\n",
    "    #print(TurnHereCommand)\n",
    "    dvx,dvy=rotationTensor(TurnHereCommand,dvx,dvy)\n",
    "    #print(dvx,dvy)\n",
    "    #print(VelocityVectorX,VelocityVectorY)\n",
    "    CurrentPositionX=CurrentPositionX+dvx*3.02\n",
    "    CurrentPositionY=CurrentPositionY+dvy*3.02\n",
    "    #print(CurrentPositionX,CurrentPositionY)\n",
    "    X.append(CurrentPositionX)\n",
    "    Y.append(CurrentPositionY)\n",
    "    if (np.sqrt((TargetX-CurrentPositionX)**2+(TargetY-CurrentPositionY)**2)<=3):\n",
    "        print(\"Target Hit\")\n",
    "        print(t)\n",
    "        break\n",
    "plt.figure(figsize=(5,5))        \n",
    "plt.plot(X,Y,1,1)\n",
    "plt.plot(Tx,Ty,10,0)\n",
    "plt.show()    \n",
    "#print(X)\n",
    "#print(Y)"
   ]
  }
 ],
 "metadata": {
  "kernelspec": {
   "display_name": "Python 3",
   "language": "python",
   "name": "python3"
  },
  "language_info": {
   "codemirror_mode": {
    "name": "ipython",
    "version": 3
   },
   "file_extension": ".py",
   "mimetype": "text/x-python",
   "name": "python",
   "nbconvert_exporter": "python",
   "pygments_lexer": "ipython3",
   "version": "3.7.4"
  }
 },
 "nbformat": 4,
 "nbformat_minor": 2
}
